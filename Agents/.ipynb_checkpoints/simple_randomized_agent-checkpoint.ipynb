{
 "cells": [
  {
   "cell_type": "markdown",
   "metadata": {},
   "source": [
    "# Intelligent Agents: Vacuum-cleaner World\n",
    "\n",
    "Implement a simulator environment for a vacuum-cleaner world and a set of intelligent agents.\n",
    "\n",
    "## PEAS description\n",
    "\n",
    "__Performance Measure:__ Each action costs 1. The performance is measured as the sum of the cost to clean the whole environment.\n",
    "\n",
    "__Environment:__ A room with $n \\times n$ squares where $n = 5$. Dirt is randomly placed on each square with probability $p = 0.2$. For simplicity, you can assume that the agent knows the size of the layout of the room (i.e., it knows n and where it starts).\n",
    "\n",
    "__Actuators:__ The agent can `clean` the current square or move to an adjacent square by going `north`, `east`, `west`, or `south`.\n",
    "\n",
    "__Sensors:__ Four bumper sensors, one for north`, `east`, `west`, and `south`; a dirt sensor reporting dirt in the current square.  \n",
    "\n",
    "The easiest implementation for the environment is to hold an 2-dimensional array to represent if squares are clean or dirty and to call the agent function in a loop untill all squares are clean or a predefined number of steps have been reached.\n",
    "\n",
    "## Define the agent program for a simple randomized agent\n",
    "\n",
    "The agent program is a function that gets sensor information (the current percepts) as the arguments. The arguments are:\n",
    "\n",
    "* A dictonary with boolean entries for the for bumper sensors `north`, `east`, `west`, `south`; not specified bumpers are assumed to be `False`. E.g., if the agent is on the north-west corner, `bumpers` gets `{\"north\" : True, \"west\" : True}` or if the agent is not close to a border then it gets `{}`.\n",
    "* The dirt sensor produces a boolean.\n",
    "\n",
    "The agent returns the chosen action as a string.\n",
    "\n",
    "Here is an example implementation for the agent program of a simple randomized agent:  "
   ]
  },
  {
   "cell_type": "code",
   "execution_count": 1,
   "metadata": {},
   "outputs": [],
   "source": [
    "from numpy import random\n",
    "\n",
    "actions = [\"north\", \"east\", \"west\", \"south\", \"suck\"]\n",
    "\n",
    "\n",
    "def simple_randomized_agent(bumpers, dirty):\n",
    "    return random.choice(actions)"
   ]
  },
  {
   "cell_type": "code",
   "execution_count": 2,
   "metadata": {},
   "outputs": [
    {
     "data": {
      "text/plain": [
       "'west'"
      ]
     },
     "execution_count": 2,
     "metadata": {},
     "output_type": "execute_result"
    }
   ],
   "source": [
    "simple_randomized_agent({\"north\" : True}, True)"
   ]
  },
  {
   "cell_type": "markdown",
   "metadata": {},
   "source": [
    "## Simple environment example\n",
    "\n",
    "The environment is infinite in size (bumpers are always `False`) and every square is dirty. We run the agent for 10 times steps."
   ]
  },
  {
   "cell_type": "code",
   "execution_count": 3,
   "metadata": {},
   "outputs": [
    {
     "name": "stdout",
     "output_type": "stream",
     "text": [
      "south\n",
      "suck\n",
      "suck\n",
      "west\n",
      "east\n",
      "east\n",
      "north\n",
      "west\n",
      "suck\n",
      "suck\n"
     ]
    }
   ],
   "source": [
    "for i in range(10):\n",
    "    print(simple_randomized_agent({\"north\" : False, \"south\" : False, \"west\" : False, \"east\" : False}, True))"
   ]
  },
  {
   "cell_type": "markdown",
   "metadata": {},
   "source": [
    "# Tasks\n",
    "\n",
    "_Submission Instructions:_ Use this notebook to prepare your submission. Complete this section with your code and results. You can use Markdown blocks for your description, comments in the code and use mathplotlib to produce charts. If you use external code files then you can include them with \n",
    "\n",
    "```\n",
    "from notebook import psource\n",
    "psource(\"your_file.py\")\n",
    "```\n",
    "\n",
    "_Note:_ Try to keep the code simple! In this couse, we want to learn about the algorithms and we often do not need to use object-oriented design. \n",
    "\n",
    "\n",
    "## Task 1: Implement a simulation environment\n",
    "\n",
    "Your environment simulator needs to create squares, make some dirty, and proivde the agent function with the sensor inputs. The environment needs to evaluate the performance measure. It needs to track the agent's actions until all dirty squares are clean and count the number of actions it takes the agent to complete the task.\n",
    "\n",
    "The simulation environment needs to work with the simple randomized agent program from above."
   ]
  },
  {
   "cell_type": "code",
   "execution_count": 4,
   "metadata": {
    "scrolled": true
   },
   "outputs": [
    {
     "name": "stdout",
     "output_type": "stream",
     "text": [
      "Room:\n",
      " [[False False False False  True]\n",
      " [False  True False False False]\n",
      " [False False False False False]\n",
      " [False False False  True False]\n",
      " [False False False False False]]\n",
      "Dirty squares:  3 \n",
      "\n",
      "Start simulation\n",
      "-----------------------\n",
      "step: 0\n",
      "current position: [0, 0]\n",
      "bumpers: {'north': True, 'south': False, 'west': True, 'east': False}\n",
      "dirty: False\n",
      "action: suck\n",
      "Dirty squares left: 3\n",
      "-----------------------\n",
      "step: 1\n",
      "current position: [0, 0]\n",
      "bumpers: {'north': True, 'south': False, 'west': True, 'east': False}\n",
      "dirty: False\n",
      "action: south\n",
      "Dirty squares left: 3\n",
      "-----------------------\n",
      "step: 2\n",
      "current position: [1, 0]\n",
      "bumpers: {'north': False, 'south': False, 'west': True, 'east': False}\n",
      "dirty: False\n",
      "action: west\n",
      "Dirty squares left: 3\n",
      "-----------------------\n",
      "step: 3\n",
      "current position: [1, 0]\n",
      "bumpers: {'north': False, 'south': False, 'west': True, 'east': False}\n",
      "dirty: False\n",
      "action: east\n",
      "Dirty squares left: 3\n",
      "-----------------------\n",
      "step: 4\n",
      "current position: [1, 1]\n",
      "bumpers: {'north': False, 'south': False, 'west': False, 'east': False}\n",
      "dirty: True\n",
      "action: west\n",
      "Dirty squares left: 3\n",
      "-----------------------\n",
      "step: 5\n",
      "current position: [1, 0]\n",
      "bumpers: {'north': False, 'south': False, 'west': True, 'east': False}\n",
      "dirty: False\n",
      "action: north\n",
      "Dirty squares left: 3\n",
      "-----------------------\n",
      "step: 6\n",
      "current position: [0, 0]\n",
      "bumpers: {'north': True, 'south': False, 'west': True, 'east': False}\n",
      "dirty: False\n",
      "action: east\n",
      "Dirty squares left: 3\n",
      "-----------------------\n",
      "step: 7\n",
      "current position: [0, 1]\n",
      "bumpers: {'north': True, 'south': False, 'west': False, 'east': False}\n",
      "dirty: False\n",
      "action: north\n",
      "Dirty squares left: 3\n",
      "-----------------------\n",
      "step: 8\n",
      "current position: [0, 1]\n",
      "bumpers: {'north': True, 'south': False, 'west': False, 'east': False}\n",
      "dirty: False\n",
      "action: east\n",
      "Dirty squares left: 3\n",
      "-----------------------\n",
      "step: 9\n",
      "current position: [0, 2]\n",
      "bumpers: {'north': True, 'south': False, 'west': False, 'east': False}\n",
      "dirty: False\n",
      "action: west\n",
      "Dirty squares left: 3\n"
     ]
    },
    {
     "data": {
      "text/plain": [
       "626"
      ]
     },
     "execution_count": 4,
     "metadata": {},
     "output_type": "execute_result"
    }
   ],
   "source": [
    "import numpy as np\n",
    "\n",
    "# n rows, m columns\n",
    "def vacuum_environment(agent, n=5, m=5, p=0.2, maxsteps=10000, verb=True):\n",
    "    room = np.random.choice(a=[True, False], size=(n, m), p=[p, 1-p])\n",
    "    \n",
    "    if verb: print('Room:\\n', room)\n",
    "    to_clean = np.sum(room)\n",
    "    if verb: print('Dirty squares: ', to_clean, '\\n')\n",
    "    \n",
    "    pos = [0, 0] \n",
    "    \n",
    "    if verb: print('Start simulation')\n",
    "    \n",
    "    for i in range(maxsteps):\n",
    "        \n",
    "        # prepare percepts\n",
    "        bumpers = {\n",
    "            'north': pos[0] == 0,\n",
    "            'south': pos[0] == n - 1,\n",
    "            'west': pos[1] == 0,\n",
    "            'east': pos[1] == m - 1\n",
    "        }\n",
    "        dirty = room[pos[0], pos[1]]\n",
    "        \n",
    "        if verb: \n",
    "            print('-----------------------')\n",
    "            print('step:', i)\n",
    "            print('current position:', pos)\n",
    "            print('bumpers:', bumpers)\n",
    "            print('dirty:', dirty)\n",
    "        \n",
    "        # call agent program\n",
    "        action = agent(bumpers, dirty)\n",
    "        if verb:\n",
    "            print('action:', action)\n",
    "        \n",
    "        # apply action to the environment\n",
    "        if action == 'north' and pos[0] > 0:     pos[0] -= 1\n",
    "        if action == 'south' and pos[0] < n - 1: pos[0] += 1\n",
    "        if action == 'west' and pos[1] > 0:      pos[1] -= 1\n",
    "        if action == 'east' and pos[1] < m - 1:  pos[1] += 1\n",
    "        if action == 'suck':                     room[pos[0], pos[1]] = False\n",
    "        \n",
    "        # check the goal state and return performance measure\n",
    "        to_clean = np.sum(room)\n",
    "        \n",
    "        if verb:\n",
    "            print(\"Dirty squares left:\", to_clean)\n",
    "        \n",
    "        if to_clean < 1:\n",
    "            break\n",
    "        \n",
    "    return i\n",
    "\n",
    "vacuum_environment(simple_randomized_agent, maxsteps=10)\n",
    "vacuum_environment(simple_randomized_agent, verb=False)\n",
    "        \n",
    "    "
   ]
  },
  {
   "cell_type": "markdown",
   "metadata": {},
   "source": [
    "### Code for simulation"
   ]
  },
  {
   "cell_type": "code",
   "execution_count": 6,
   "metadata": {},
   "outputs": [],
   "source": [
    "import matplotlib.pyplot as plt\n",
    "\n",
    "def run_simulation(agent, reset=None, n=5, m=5, maxsteps=10000, times=1000, verb=True):\n",
    "    steps = np.repeat(0, times)\n",
    "        \n",
    "    for i in range(times):\n",
    "        # reset the agent every time we run an experiment\n",
    "        if reset is not None: reset()\n",
    "        steps[i] = vacuum_environment(agent, n=n, m=m, maxsteps=maxsteps, verb=False)\n",
    "    \n",
    "    if verb:\n",
    "        print(\"Size:\", n, \"x\", m)\n",
    "        print(\"Number of times:\", times)\n",
    "        print(\"Average:\", np.mean(steps))\n",
    "        print(\"Standard Deviation:\", np.std(steps))\n",
    "        print(\"Range:\", np.min(steps), \"-\", np.max(steps))\n",
    "        print(\"Median:\", np.median(steps))\n",
    "        \n",
    "        # plot the result\n",
    "        plt.hist(steps, bins=10)\n",
    "        plt.xlabel('steps')\n",
    "        plt.ylabel('frequency')\n",
    "        plt.show()\n"
   ]
  },
  {
   "cell_type": "code",
   "execution_count": 7,
   "metadata": {},
   "outputs": [
    {
     "name": "stdout",
     "output_type": "stream",
     "text": [
      "Size: 5 x 5\n",
      "Number of times: 1000\n",
      "Average: 430.28\n",
      "Standard Deviation: 246.32087528262807\n",
      "Range: 0 - 1874\n",
      "Median: 376.5\n"
     ]
    },
    {
     "data": {
      "image/png": "[encoded data removed]",
      "text/plain": [
       "<Figure size 432x288 with 1 Axes>"
      ]
     },
     "metadata": {
      "needs_background": "light"
     },
     "output_type": "display_data"
    }
   ],
   "source": [
    "run_simulation(simple_randomized_agent)"
   ]
  },
  {
   "cell_type": "markdown",
   "metadata": {},
   "source": [
    "## Task 2:  Implement a simple reflex agent\n",
    "\n",
    "The simple reflex agent randomly walks around but reacts to the bumper sensor by not bumping into the wall and to dirt with sucking."
   ]
  },
  {
   "cell_type": "code",
   "execution_count": 94,
   "metadata": {},
   "outputs": [],
   "source": [
    "class SimpleReflexAgent:\n",
    "    def go(self, bumpers, dirty):\n",
    "        choices = []\n",
    "        if str(dirty) == 'True':\n",
    "            return 'suck'\n",
    "            \n",
    "        for direction in bumpers:\n",
    "            if not bumpers[direction]: choices.append(direction)\n",
    "        if (len(choices) == 0):\n",
    "            return 'suck'\n",
    "        return random.choice(choices)\n"
   ]
  },
  {
   "cell_type": "code",
   "execution_count": 88,
   "metadata": {},
   "outputs": [
    {
     "name": "stdout",
     "output_type": "stream",
     "text": [
      "Size: 5 x 5\n",
      "Number of times: 1000\n",
      "Average: 102.768\n",
      "Standard Deviation: 69.74806216662941\n",
      "Range: 0 - 576\n",
      "Median: 88.5\n"
     ]
    },
    {
     "data": {
      "image/png": "[encoded data removed]",
      "text/plain": [
       "<Figure size 432x288 with 1 Axes>"
      ]
     },
     "metadata": {
      "needs_background": "light"
     },
     "output_type": "display_data"
    }
   ],
   "source": [
    "sra = SimpleReflexAgent()\n",
    "run_simulation(sra.go)\n"
   ]
  },
  {
   "cell_type": "markdown",
   "metadata": {},
   "source": [
    "## Task 3: Implement a model-based reflex agent \n",
    "\n",
    "This agent keeps track of the location and remembers where it has cleaned. Assume the agent knows how many squares the room has and where it starts. It can now use more advanced navigation.\n",
    "\n",
    "_Note on implementing the state:_ You can use a global variable. In Python, you have to use the keyword `global` in your function for this to work (see: https://www.programiz.com/python-programming/global-keyword). Alternatively, you can define a class for your agent with a member variable for the state and a function for the agent program (see: https://www.w3schools.com/python/python_classes.asp). \n",
    "\n",
    "Describe how your agent will perform \n",
    "* if it is put into a larger room, \n",
    "* if the room contains obstacles, or \n",
    "* if it starts in a random square."
   ]
  },
  {
   "cell_type": "markdown",
   "metadata": {},
   "source": [
    "### Description:\n",
    "- In the first row, the agent will keep going east until hitting the wall, then go south one unit. Then it keeps going west until hitting the wall in the second row. It then go south and repeat the above operations from the third row. Generally, in odd rows, it will go east until hitting the wall then go south one unit. In even rows, it will go west until hitting the wall then go south one unit.\n",
    "- If the agent is put into a room of size $n \\times m$, it will perform at most $2mn$ moves because in the worst case where all the cells are dirty, it will move to every cell once and clean it once.\n",
    "- If the room contains obstacles, the agent may only clean a part of the room. It will move south every time it meets an obstacle on the way it moves. Some dirty cells on the right or left of that cell will not be cleaned.\n",
    "- If the agent starts in a random square, it may also clean a part of the room. The agent never goes north. This will result in the squares north from the starting point never being visited and thus they can not be cleaned. "
   ]
  },
  {
   "cell_type": "code",
   "execution_count": 91,
   "metadata": {},
   "outputs": [],
   "source": [
    "# Usage: Call ModelBasedReflexAgent(n, m) for a table of n * m\n",
    "class ModelBasedReflexAgent:\n",
    "    # (x, y): current position of agent\n",
    "    x = 0 \n",
    "    y = 0\n",
    "    \n",
    "    def move(self, direction):\n",
    "        if direction == 'east'  : self.y += 1\n",
    "        if direction == 'west'  : self.y -= 1\n",
    "        if direction == 'south' : self.x += 1\n",
    "        if direction == 'bottom': self.x -= 1\n",
    "        return direction\n",
    "    \n",
    "    def reset(self):\n",
    "        self.x = 0\n",
    "        self.y = 0\n",
    "        \n",
    "    def go(self, bumpers, dirty):\n",
    "        if str(dirty) == 'True':\n",
    "            return 'suck'\n",
    "        \n",
    "        if self.x % 2 == 0: # keep going east\n",
    "            if not bumpers['east']: \n",
    "                return self.move('east')\n",
    "            else: # reach a wall\n",
    "                return self.move('south')\n",
    "        else: # keep going west\n",
    "            if not bumpers['west']: \n",
    "                return self.move('west')\n",
    "            else:\n",
    "                return self.move('south')\n",
    "            "
   ]
  },
  {
   "cell_type": "code",
   "execution_count": 92,
   "metadata": {},
   "outputs": [
    {
     "name": "stdout",
     "output_type": "stream",
     "text": [
      "Size: 5 x 5\n",
      "Number of times: 1000\n",
      "Average: 23.925\n",
      "Standard Deviation: 5.555661526767087\n",
      "Range: 0 - 34\n",
      "Median: 25.0\n"
     ]
    },
    {
     "data": {
      "image/png": "[encoded data removed]",
      "text/plain": [
       "<Figure size 432x288 with 1 Axes>"
      ]
     },
     "metadata": {
      "needs_background": "light"
     },
     "output_type": "display_data"
    }
   ],
   "source": [
    "mbra = ModelBasedReflexAgent()\n",
    "run_simulation(mbra.go, reset=mbra.reset)\n"
   ]
  },
  {
   "cell_type": "markdown",
   "metadata": {},
   "source": [
    "## Task 4: Simulation study\n",
    "\n",
    "Compare the performance of the agents using different size environments. E.g., $5 \\times 5$, $10 \\times 10$ and\n",
    "$100 \\times 100$. Use at least 100 random runs for each."
   ]
  },
  {
   "cell_type": "code",
   "execution_count": 20,
   "metadata": {},
   "outputs": [
    {
     "name": "stdout",
     "output_type": "stream",
     "text": [
      "Map 5 x 5\n",
      "------------------------------------\n",
      "Simple Randomized Agent:\n",
      "Size: 5 x 5\n",
      "Number of times: 1000\n",
      "Average: 425.64\n",
      "Standard Deviation: 256.1383657322737\n",
      "Range: 0 - 1684\n",
      "Median: 377.0\n"
     ]
    },
    {
     "data": {
      "image/png": "[encoded data removed]",
      "text/plain": [
       "<Figure size 432x288 with 1 Axes>"
      ]
     },
     "metadata": {
      "needs_background": "light"
     },
     "output_type": "display_data"
    },
    {
     "name": "stdout",
     "output_type": "stream",
     "text": [
      "\n",
      "Simple Reflex Agent:\n",
      "Size: 5 x 5\n",
      "Number of times: 1000\n",
      "Average: 100.99\n",
      "Standard Deviation: 66.31928754140834\n",
      "Range: 0 - 583\n",
      "Median: 85.0\n"
     ]
    },
    {
     "data": {
      "image/png": "[encoded data removed]",
      "text/plain": [
       "<Figure size 432x288 with 1 Axes>"
      ]
     },
     "metadata": {
      "needs_background": "light"
     },
     "output_type": "display_data"
    },
    {
     "name": "stdout",
     "output_type": "stream",
     "text": [
      "\n",
      "Model Based Reflex Agent:\n",
      "Size: 5 x 5\n",
      "Number of times: 1000\n",
      "Average: 24.138\n",
      "Standard Deviation: 5.376518948167113\n",
      "Range: 0 - 35\n",
      "Median: 25.0\n"
     ]
    },
    {
     "data": {
      "image/png": "[encoded data removed]",
      "text/plain": [
       "<Figure size 432x288 with 1 Axes>"
      ]
     },
     "metadata": {
      "needs_background": "light"
     },
     "output_type": "display_data"
    },
    {
     "name": "stdout",
     "output_type": "stream",
     "text": [
      "\n",
      "Map 10 x 10\n",
      "------------------------------------\n",
      "Simple Randomized Agent:\n",
      "Size: 10 x 10\n",
      "Number of times: 1000\n",
      "Average: 2995.431\n",
      "Standard Deviation: 1153.6194637916785\n",
      "Range: 851 - 9115\n",
      "Median: 2811.0\n"
     ]
    },
    {
     "data": {
      "image/png": "[encoded data removed]",
      "text/plain": [
       "<Figure size 432x288 with 1 Axes>"
      ]
     },
     "metadata": {
      "needs_background": "light"
     },
     "output_type": "display_data"
    },
    {
     "name": "stdout",
     "output_type": "stream",
     "text": [
      "\n",
      "Simple Reflex Agent:\n",
      "Size: 10 x 10\n",
      "Number of times: 1000\n",
      "Average: 892.735\n",
      "Standard Deviation: 427.45470493959937\n",
      "Range: 259 - 3626\n",
      "Median: 800.5\n"
     ]
    },
    {
     "data": {
      "image/png": "[encoded data removed]",
      "text/plain": [
       "<Figure size 432x288 with 1 Axes>"
      ]
     },
     "metadata": {
      "needs_background": "light"
     },
     "output_type": "display_data"
    },
    {
     "name": "stdout",
     "output_type": "stream",
     "text": [
      "\n",
      "Model Based Reflex Agent:\n",
      "Size: 10 x 10\n",
      "Number of times: 1000\n",
      "Average: 114.061\n",
      "Standard Deviation: 6.544408223819782\n",
      "Range: 80 - 128\n",
      "Median: 115.0\n"
     ]
    },
    {
     "data": {
      "image/png": "[encoded data removed]",
      "text/plain": [
       "<Figure size 432x288 with 1 Axes>"
      ]
     },
     "metadata": {
      "needs_background": "light"
     },
     "output_type": "display_data"
    },
    {
     "name": "stdout",
     "output_type": "stream",
     "text": [
      "\n",
      "Map 100 x 100\n",
      "------------------------------------\n",
      "Simple Randomized Agent:\n",
      "Size: 100 x 100\n",
      "Number of times: 100\n",
      "Average: 49999.0\n",
      "Standard Deviation: 0.0\n",
      "Range: 49999 - 49999\n",
      "Median: 49999.0\n"
     ]
    },
    {
     "data": {
      "image/png": "[encoded data removed]",
      "text/plain": [
       "<Figure size 432x288 with 1 Axes>"
      ]
     },
     "metadata": {
      "needs_background": "light"
     },
     "output_type": "display_data"
    },
    {
     "name": "stdout",
     "output_type": "stream",
     "text": [
      "\n",
      "Simple Reflex Agent:\n",
      "Size: 100 x 100\n",
      "Number of times: 100\n",
      "Average: 49999.0\n",
      "Standard Deviation: 0.0\n",
      "Range: 49999 - 49999\n",
      "Median: 49999.0\n"
     ]
    },
    {
     "data": {
      "image/png": "[encoded data removed]",
      "text/plain": [
       "<Figure size 432x288 with 1 Axes>"
      ]
     },
     "metadata": {
      "needs_background": "light"
     },
     "output_type": "display_data"
    },
    {
     "name": "stdout",
     "output_type": "stream",
     "text": [
      "\n",
      "Model Based Reflex Agent:\n",
      "Size: 100 x 100\n",
      "Number of times: 100\n",
      "Average: 11991.36\n",
      "Standard Deviation: 34.91490226250104\n",
      "Range: 11902 - 12087\n",
      "Median: 11990.5\n"
     ]
    },
    {
     "data": {
      "image/png": "[encoded data removed]",
      "text/plain": [
       "<Figure size 432x288 with 1 Axes>"
      ]
     },
     "metadata": {
      "needs_background": "light"
     },
     "output_type": "display_data"
    },
    {
     "name": "stdout",
     "output_type": "stream",
     "text": [
      "\n"
     ]
    }
   ],
   "source": [
    "# generate results\n",
    "map_sizes = [(5, 5), (10, 10), (100, 100)]\n",
    "times = [1000, 1000, 100]\n",
    "maxsteps = [10000, 10000, 50000]\n",
    "\n",
    "for i in range(len(map_sizes)):\n",
    "    size, ntimes, maxstep = map_sizes[i], times[i], maxsteps[i]\n",
    "    print(\"Map {} x {}\".format(size[0], size[1]))\n",
    "    print(\"------------------------------------\")\n",
    "    \n",
    "    print(\"Simple Randomized Agent:\")\n",
    "    run_simulation(simple_randomized_agent, \n",
    "                   n=size[0], \n",
    "                   m=size[1], \n",
    "                   maxsteps=maxstep, \n",
    "                   times=ntimes)\n",
    "    \n",
    "    sra = SimpleReflexAgent()\n",
    "    print(\"\\nSimple Reflex Agent:\")\n",
    "    run_simulation(sra.go, \n",
    "                   n=size[0], \n",
    "                   m=size[1], \n",
    "                   maxsteps=maxstep, \n",
    "                   times=ntimes)\n",
    "    \n",
    "    mbra = ModelBasedReflexAgent()\n",
    "    print(\"\\nModel Based Reflex Agent:\")\n",
    "    run_simulation(mbra.go,\n",
    "                   reset=mbra.reset,\n",
    "                   n=size[0], \n",
    "                   m=size[1], \n",
    "                   maxsteps=maxstep, \n",
    "                   times=ntimes)\n",
    "    print()"
   ]
  },
  {
   "cell_type": "markdown",
   "metadata": {},
   "source": [
    "### Result:\n",
    "\n",
    "*Note: STD is standard deviation* \n",
    "\n",
    "This is the summary of each agent after experimenting in a $5 \\times 5$ room for $1000$ times.\n",
    "\n",
    "| Agent | Average | STD | Median | Min | Max |  \n",
    "|---|---|---|---|---|---|\n",
    "| Simple Randomized Agent | $425.64$ | $256.14$ | $377.0$ | $0$ | $1684$\n",
    "| Simple Reflex Agent | $100.99$ | $66.32$ | $85.0$ | $0$ | $583$\n",
    "| Model Based Refex Agent | $24.14$ | $5.38$ | $25$ | $0$ | $35$\n",
    "\n",
    "This is the summary of each agent after experimenting in a $10 \\times 10$ room for $1000$ times.\n",
    "\n",
    "| Agent | Average | STD | Median | Min | Max |  \n",
    "|---|---|---|---|---|---|\n",
    "| Simple Randomized Agent | $2995.43$ | $1153.61$ | $2811.0$ | $851$ | $9115$\n",
    "| Simple Reflex Agent | $892.73$ | $427.45$ | $800.5$ | $259$ | $3626$\n",
    "| Model Based Refex Agent | $114.06$ | $6.54$ | $115.0$ | $80$ | $128$\n",
    "\n",
    "\n",
    "This is the summary of each agent after experimenting in a $100 \\times 100$ room for $100$ times with no more than $50000$ steps.\n",
    "\n",
    "| Agent | Average | STD | Median | Min | Max |  \n",
    "|---|---|---|---|---|---|\n",
    "| Simple Randomized Agent | $>50000$ | $?$ | $>50000$ | $>50000$ | $>50000$\n",
    "| Simple Reflex Agent | $>50000$ | $?$ | $>50000$ | $>50000$ | $>50000$\n",
    "| Model Based Refex Agent | $11991.36$ | $34.91$ | $11990.5$ | $11902$ | $12087$\n",
    "\n",
    "#### Observations and Comments\n",
    "1. As we can see from 3 simulations, the simple reflex agent completes $4$ times faster than the simple randomized agent overally.\n",
    "\n",
    "2. The model based reflex agent outperforms the other two, especially in the $100 \\times 100$ room where the simple reflex agent and simple randomized agent cannot complete the job in $50000$ moves.\n",
    "\n",
    "3. All robots have a minimum number of moves equal $0$ in the room $5 \\times 5$. This happens when the room is already clean. There are only $25$ cells, and the probability all of them are clean is $0.8^{25}$. Therefore, the probability of one clean room appearing in $1000$ simulations is $1 - (1 - 0.8^{25})^{1000} = 97.7\\%$.\n",
    "\n",
    "4. Standard deviation of simple randomized agent and simple reflex agent are big because they move randomly. They might get lucky in one simulation but also unlucky in other simulation. This happens regularly. In the other hand, standard deviation of model based agent is small because its path is fixed. They always use around $mn$ moves. This is reflected through the mean and median.\n",
    "\n",
    "5. All histograms look similar to normal distribution, which makes sense.\n"
   ]
  },
  {
   "cell_type": "markdown",
   "metadata": {},
   "source": [
    "## Bonus tasks\n",
    "\n",
    "* __Obstacles:__ Add random obstacle squares that also trigger the bumper sensor. The agent does not know where the obstacles are. Observe how this changes the performance of the three implementations.\n",
    "* __Unknown environment with obstacles:__ Implement an agent for an environment where the agent does not know how large the environment is (we assume it is rectangular), where it starts or where the obstacles are. An option would be to always move to the closest unchecked/uncleaned square.\n",
    "* __Utility-based agent:__ Change the environment, so each square has a fixed probability of getting dirty again. We assume the agent has learned this information over time. For the implementation, we give this information to the agent as a 2-dimensional array of probabilities  Cleaning one dirty square produces a utility of 1. Implement a utility-based agent that maximizes the expected utility over one full charge which lasts for 10000 time steps. This is very tricky!"
   ]
  },
  {
   "cell_type": "markdown",
   "metadata": {},
   "source": [
    "### Obstacles\n"
   ]
  },
  {
   "cell_type": "code",
   "execution_count": 95,
   "metadata": {},
   "outputs": [],
   "source": [
    "def vacuum_environment_with_obstacles(agent, n=5, m=5, p=0.2, p_obs=0.1, maxsteps=10000, verb=True):\n",
    "    room = np.random.choice(a=[True, False, '#'], size=(n, m), p=[p, 1 - p - p_obs, p_obs])\n",
    "    to_clean = np.sum(room == 'True')\n",
    "    \n",
    "    if verb: print('Room:\\n', room)\n",
    "    if verb: print('Dirty squares: ', to_clean, '\\n')\n",
    "    \n",
    "    pos = [0, 0]\n",
    "    if room[0, 0] == '#':\n",
    "        room[0, 0] = 'False'\n",
    "    \n",
    "    if verb: print('Start simulation')\n",
    "\n",
    "    for i in range(maxsteps):\n",
    "        \n",
    "        # prepare percepts\n",
    "        x, y = pos[0], pos[1]\n",
    "        bumpers = {\n",
    "            'north': pos[0] == 0 or room[x - 1][y] == '#',\n",
    "            'south': pos[0] == n - 1 or room[x + 1][y] == '#',\n",
    "            'west': pos[1] == 0 or room[x][y - 1] == '#',\n",
    "            'east': pos[1] == m - 1 or room[x][y + 1] == '#'\n",
    "        }\n",
    "        dirty = room[pos[0], pos[1]]\n",
    "        \n",
    "        if verb: \n",
    "            print('-----------------------')\n",
    "            print('step:', i)\n",
    "            print('current position:', pos)\n",
    "            print('bumpers:', bumpers)\n",
    "            print('dirty:', dirty)\n",
    "        \n",
    "        # call agent program\n",
    "        action = agent(bumpers, dirty)\n",
    "        if verb:\n",
    "            print('action:', action)\n",
    "        \n",
    "        # apply action to the environment\n",
    "        if action == 'north' and pos[0] > 0 and room[x - 1][y] != '#':     pos[0] -= 1\n",
    "        if action == 'south' and pos[0] < n - 1 and room[x + 1][y] != '#': pos[0] += 1\n",
    "        if action == 'west' and pos[1] > 0 and room[x][y - 1] != '#':      pos[1] -= 1\n",
    "        if action == 'east' and pos[1] < m - 1 and room[x][y + 1] != '#':  pos[1] += 1\n",
    "        if action == 'suck':  room[pos[0], pos[1]] = False\n",
    "        \n",
    "        # check the goal state and return performance measure\n",
    "        to_clean = np.sum(room == 'True')\n",
    "    \n",
    "        if verb:\n",
    "            print(\"Dirty squares left:\", to_clean)\n",
    "        \n",
    "        if to_clean < 1:\n",
    "            break\n",
    "        \n",
    "    return i"
   ]
  },
  {
   "cell_type": "code",
   "execution_count": 96,
   "metadata": {},
   "outputs": [],
   "source": [
    "\n",
    "def run_simulation_obstacles(agent, reset=None, n=5, m=5, maxsteps=10000, times=1000, verb=True):\n",
    "    steps = np.repeat(0, times)\n",
    "        \n",
    "    for i in range(times):\n",
    "        # reset the agent every time we run an experiment\n",
    "        if reset is not None: reset()\n",
    "        steps[i] = vacuum_environment_with_obstacles(agent, n=n, m=m, maxsteps=maxsteps, verb=False)\n",
    "    \n",
    "    if verb:\n",
    "        print(\"Size:\", n, \"x\", m)\n",
    "        print(\"Number of times:\", times)\n",
    "        print(\"Average:\", np.mean(steps))\n",
    "        print(\"Standard Deviation:\", np.std(steps))\n",
    "        print(\"Range:\", np.min(steps), \"-\", np.max(steps))\n",
    "        print(\"Median:\", np.median(steps))\n",
    "        \n",
    "        # plot the result\n",
    "        plt.hist(steps, bins=10)\n",
    "        plt.xlabel('steps')\n",
    "        plt.ylabel('frequency')\n",
    "        plt.show()\n"
   ]
  },
  {
   "cell_type": "code",
   "execution_count": 97,
   "metadata": {},
   "outputs": [
    {
     "name": "stdout",
     "output_type": "stream",
     "text": [
      "Simple Randomized Agent:\n",
      "Size: 5 x 5\n",
      "Number of times: 1000\n",
      "Average: 729.725\n",
      "Standard Deviation: 1653.764042230632\n",
      "Range: 0 - 9999\n",
      "Median: 403.0\n"
     ]
    },
    {
     "data": {
      "image/png": "[encoded data removed]",
      "text/plain": [
       "<Figure size 432x288 with 1 Axes>"
      ]
     },
     "metadata": {
      "needs_background": "light"
     },
     "output_type": "display_data"
    },
    {
     "name": "stdout",
     "output_type": "stream",
     "text": [
      "Simple Reflex Agent:\n",
      "Size: 5 x 5\n",
      "Number of times: 1000\n",
      "Average: 375.691\n",
      "Standard Deviation: 1575.1148781974603\n",
      "Range: 0 - 9999\n",
      "Median: 96.0\n"
     ]
    },
    {
     "data": {
      "image/png": "[encoded data removed]",
      "text/plain": [
       "<Figure size 432x288 with 1 Axes>"
      ]
     },
     "metadata": {
      "needs_background": "light"
     },
     "output_type": "display_data"
    },
    {
     "name": "stdout",
     "output_type": "stream",
     "text": [
      "Model Based Reflex Agent:\n",
      "Size: 5 x 5\n",
      "Number of times: 1000\n",
      "Average: 5429.345\n",
      "Standard Deviation: 4971.077312612931\n",
      "Range: 0 - 9999\n",
      "Median: 9999.0\n"
     ]
    },
    {
     "data": {
      "image/png": "[encoded data removed]",
      "text/plain": [
       "<Figure size 432x288 with 1 Axes>"
      ]
     },
     "metadata": {
      "needs_background": "light"
     },
     "output_type": "display_data"
    }
   ],
   "source": [
    "print(\"Simple Randomized Agent:\")\n",
    "run_simulation_obstacles(simple_randomized_agent)\n",
    "\n",
    "print(\"Simple Reflex Agent:\")\n",
    "run_simulation_obstacles(SimpleReflexAgent().go)\n",
    "\n",
    "mrfa = ModelBasedReflexAgent()\n",
    "print(\"Model Based Reflex Agent:\")\n",
    "run_simulation_obstacles(mrfa.go, reset=mrfa.reset)\n"
   ]
  },
  {
   "cell_type": "markdown",
   "metadata": {},
   "source": [
    "### Result:\n",
    "\n",
    "As seen above the charts, the simple reflex agent works the best in the environment with obstacles. It works about $2$ times faster than the simple randomized agent. Both have around $10\\%$ simulations that cannot be completed. This happens when the room is not connected, which means there are some obstacles preventing the dirt to be cleaned.\n",
    "\n",
    "As expected, the model based reflex agent does not work well with the obstacles because it thinks the obstacles are the wall. In under $50\\%$, it completes the work because of an ideal environment. This number will decrease for bigger rooms."
   ]
  },
  {
   "cell_type": "code",
   "execution_count": null,
   "metadata": {},
   "outputs": [],
   "source": []
  }
 ],
 "metadata": {
  "kernelspec": {
   "display_name": "Python 3",
   "language": "python",
   "name": "python3"
  },
  "language_info": {
   "codemirror_mode": {
    "name": "ipython",
    "version": 3
   },
   "file_extension": ".py",
   "mimetype": "text/x-python",
   "name": "python",
   "nbconvert_exporter": "python",
   "pygments_lexer": "ipython3",
   "version": "3.6.9"
  }
 },
 "nbformat": 4,
 "nbformat_minor": 4
}
