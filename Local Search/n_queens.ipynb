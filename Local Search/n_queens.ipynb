{
 "cells": [
  {
   "cell_type": "markdown",
   "metadata": {},
   "source": [
    "# Solving the n-Queens Problem using Local Search\n",
    "\n",
    "Points: 10"
   ]
  },
  {
   "cell_type": "markdown",
   "metadata": {},
   "source": [
    "## The n-Queens Problem\n",
    "\n",
    "__Goal:__ Find an arrangement of $n$ queens on a $n \\times n$ chess board so that no queen is on the same row, column or diagonal as any other queen.\n",
    "\n",
    "__State space:__ An arrangement of the queens on the board. We restrict the state space to arrangements where there is only a single queen per column. We represent a state as an integer vector of length $n$, each number representing for one column (from left to write) the row the queen is located in. We will call a state a \"board.\"\n",
    "\n",
    "__Objective function:__ The number of pairwise conflicts (i.e., two queens in the same row/column/diagonal).\n",
    "\n",
    "The optimization problem is to find the optimal arrangement $a^*$ of $n$ queens on the board:\n",
    "\n",
    "$$a^* = \\mathrm{argmin}_a [ \\mathrm{conflicts}(a) ]$$\n",
    "\n",
    "$$\\text{s.t.}\\ a \\ \\text{contains only one queen per column}$$\n",
    "\n",
    "Note that for this problem there is always an arrangement $a^*$ with $\\mathrm{conflicts}(a) = 0$. \n",
    "\n",
    "__Local move:__ Move one queen to a different position in its column.\n",
    "\n",
    "## Helper functions\n"
   ]
  },
  {
   "cell_type": "code",
   "execution_count": 1,
   "metadata": {},
   "outputs": [],
   "source": [
    "import numpy as np\n",
    "import matplotlib.pyplot as plt\n",
    "from matplotlib import colors\n",
    "import math\n",
    "\n",
    "\n",
    "def random_board(n):\n",
    "    \"\"\"Creates a random board of size n x n. Note that only a single queen is placed in each column!\"\"\"\n",
    "    \n",
    "    return(np.random.randint(0,n-1, size = n))\n",
    "\n",
    "\n",
    "def conflicts(board):\n",
    "    \"\"\"Caclulate the number of conflicts, i.e., the objective function.\"\"\"\n",
    "    \n",
    "    n = len(board)\n",
    "    conflicts = 0\n",
    "\n",
    "    # check horizontal (we do not check vertical since the state space is restricted to one queen per col)\n",
    "    for i in range(n): conflicts += math.comb(np.sum(board == i), 2)\n",
    "    #print(f\"Horizontal conflicts: {conflicts}\")\n",
    "    \n",
    "    # check for each queen diagonally up and down (only to the right side of the queen)\n",
    "    for j in range(n):\n",
    "        q_up = board[j]\n",
    "        q_down = board[j]\n",
    "     \n",
    "        for jj in range(j+1, n):\n",
    "            q_up -= 1\n",
    "            q_down += 1\n",
    "            if board[jj] == q_up: conflicts += 1\n",
    "            if board[jj] == q_down: conflicts += 1\n",
    "        #print(f\"Conflicts after queen {j}: {conflicts}\")\n",
    "       \n",
    "    return(conflicts)\n",
    "        \n",
    "\n",
    "def show_board(board, cols = ['white', 'gray']):  \n",
    "    \"\"\"display the board\"\"\"\n",
    "    \n",
    "    n = len(board)\n",
    "    \n",
    "    # create chess board display\n",
    "    display = np.zeros([n,n])\n",
    "    for i in range(n):\n",
    "        for j in range(n):\n",
    "            if (((i+j) % 2) != 0): \n",
    "                display[i,j] = 1\n",
    "    \n",
    "    cmap = colors.ListedColormap(cols)\n",
    "    fig, ax = plt.subplots()\n",
    "    ax.imshow(display, cmap = cmap, \n",
    "              norm = colors.BoundaryNorm(range(len(cols)+1), cmap.N))\n",
    "    ax.set_xticks([])\n",
    "    ax.set_yticks([])\n",
    "    \n",
    "    # place queens. Note: 1 and j are switched. Unicode u265B is a black queen\n",
    "    for j in range(n):\n",
    "        plt.text(j, board[j], u\"\\u265B\", fontsize = 48, \n",
    "                 horizontalalignment = 'center',\n",
    "                 verticalalignment = 'center')\n",
    "    \n",
    "    print(f\"Board with {conflicts(board)} conflicts.\")\n",
    "    plt.show()"
   ]
  },
  {
   "cell_type": "markdown",
   "metadata": {},
   "source": [
    "## Create a board"
   ]
  },
  {
   "cell_type": "code",
   "execution_count": 2,
   "metadata": {},
   "outputs": [
    {
     "name": "stdout",
     "output_type": "stream",
     "text": [
      "Board with 5 conflicts.\n"
     ]
    },
    {
     "data": {
      "image/png": "[encoded data removed]",
      "text/plain": [
       "<Figure size 432x288 with 1 Axes>"
      ]
     },
     "metadata": {},
     "output_type": "display_data"
    },
    {
     "name": "stdout",
     "output_type": "stream",
     "text": [
      "Queens (left to right) are at rows: [1 0 1 0]\n",
      "Number of conflicts: 5\n"
     ]
    }
   ],
   "source": [
    "board = random_board(4)\n",
    "\n",
    "show_board(board)\n",
    "print(f\"Queens (left to right) are at rows: {board}\")\n",
    "print(f\"Number of conflicts: {conflicts(board)}\")"
   ]
  },
  {
   "cell_type": "markdown",
   "metadata": {},
   "source": [
    "A board $4 \\times 4$ with no conflicts:"
   ]
  },
  {
   "cell_type": "code",
   "execution_count": 3,
   "metadata": {},
   "outputs": [
    {
     "name": "stdout",
     "output_type": "stream",
     "text": [
      "Board with 0 conflicts.\n"
     ]
    },
    {
     "data": {
      "image/png": "[encoded data removed]",
      "text/plain": [
       "<Figure size 432x288 with 1 Axes>"
      ]
     },
     "metadata": {},
     "output_type": "display_data"
    }
   ],
   "source": [
    "board = [1,3,0,2]\n",
    "show_board(board)"
   ]
  },
  {
   "cell_type": "markdown",
   "metadata": {},
   "source": [
    "## Steepest-ascend Hill Climbing Search [3 Points]\n",
    "\n",
    "Calculate the objective function for all local moves (move each queen within its column) and always choose the best among all local moves."
   ]
  },
  {
   "cell_type": "code",
   "execution_count": 4,
   "metadata": {
    "scrolled": false
   },
   "outputs": [],
   "source": [
    "# Code goes here"
   ]
  },
  {
   "cell_type": "markdown",
   "metadata": {},
   "source": [
    "## Steepest-ascend Hill Climbing Search with Random Restarts [1 Point]\n",
    "\n",
    "Steepest-ascend hill climbing will often end up in local optima. Restart the algorithm up to 100 times with a random board to find a better (hopefully optimal) solution.   "
   ]
  },
  {
   "cell_type": "code",
   "execution_count": 5,
   "metadata": {
    "scrolled": false
   },
   "outputs": [],
   "source": [
    "# Code goes here"
   ]
  },
  {
   "cell_type": "markdown",
   "metadata": {},
   "source": [
    "## Stochastic Hill Climbing [1 Point]\n",
    "\n",
    "Chooses randomly from among all uphill moves."
   ]
  },
  {
   "cell_type": "code",
   "execution_count": 6,
   "metadata": {},
   "outputs": [],
   "source": [
    "# Code goes here"
   ]
  },
  {
   "cell_type": "markdown",
   "metadata": {},
   "source": [
    "## First-choice Hill Climbing [1 Point]\n",
    "\n",
    "First-choice hill climbing is a type of stochastic hill climbing that generates one random local neighbor at a time and accept it if it has a better objective function value than the current state."
   ]
  },
  {
   "cell_type": "code",
   "execution_count": 7,
   "metadata": {},
   "outputs": [],
   "source": [
    "# Code goes here"
   ]
  },
  {
   "cell_type": "markdown",
   "metadata": {},
   "source": [
    "## Simulated Annealing [2 Points]\n",
    "\n",
    "You have to experiment with the annealing schedule."
   ]
  },
  {
   "cell_type": "code",
   "execution_count": 8,
   "metadata": {},
   "outputs": [],
   "source": [
    "# Code goes here"
   ]
  },
  {
   "cell_type": "markdown",
   "metadata": {},
   "source": [
    "## Compare Performance [2 Points]\n",
    "\n",
    "Use runtime, scalability, and best objective function value to compare the algorithms on boards of different sizes.  \n",
    "\n",
    "For timing you can use the `time` package."
   ]
  },
  {
   "cell_type": "code",
   "execution_count": 9,
   "metadata": {},
   "outputs": [
    {
     "name": "stdout",
     "output_type": "stream",
     "text": [
      "Do something\n",
      "This took: 0.15091896057128906 milliseconds\n"
     ]
    }
   ],
   "source": [
    "import time\n",
    "\n",
    "t0 = time.time()\n",
    "print(\"Do something\")\n",
    "t1 = time.time()\n",
    "\n",
    "print(f\"This took: {(t1-t0) * 1e3} milliseconds\")"
   ]
  },
  {
   "cell_type": "code",
   "execution_count": 10,
   "metadata": {},
   "outputs": [],
   "source": [
    "# Code and results go here"
   ]
  },
  {
   "cell_type": "markdown",
   "metadata": {},
   "source": [
    "## Bonus: Genetic Algorithm [+1 Point]"
   ]
  },
  {
   "cell_type": "code",
   "execution_count": 11,
   "metadata": {},
   "outputs": [],
   "source": [
    "# Code goes here"
   ]
  }
 ],
 "metadata": {
  "kernelspec": {
   "display_name": "Python 3",
   "language": "python",
   "name": "python3"
  },
  "language_info": {
   "codemirror_mode": {
    "name": "ipython",
    "version": 3
   },
   "file_extension": ".py",
   "mimetype": "text/x-python",
   "name": "python",
   "nbconvert_exporter": "python",
   "pygments_lexer": "ipython3",
   "version": "3.8.5"
  }
 },
 "nbformat": 4,
 "nbformat_minor": 4
}
